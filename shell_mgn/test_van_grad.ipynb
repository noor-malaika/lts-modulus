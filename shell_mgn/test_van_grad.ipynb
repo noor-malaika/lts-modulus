{
 "cells": [
  {
   "cell_type": "code",
   "execution_count": 1,
   "metadata": {},
   "outputs": [
    {
     "name": "stderr",
     "output_type": "stream",
     "text": [
      "\u001b[34m\u001b[1mwandb\u001b[0m: \u001b[33mWARNING\u001b[0m If you're specifying your api key in code, ensure this code is not shared publicly.\n",
      "\u001b[34m\u001b[1mwandb\u001b[0m: \u001b[33mWARNING\u001b[0m Consider setting the WANDB_API_KEY environment variable, or running `wandb login` from the command line.\n",
      "\u001b[34m\u001b[1mwandb\u001b[0m: Appending key for api.wandb.ai to your netrc file: /home/sces213/.netrc\n",
      "\u001b[34m\u001b[1mwandb\u001b[0m: Currently logged in as: \u001b[33mmalaikanoor7864\u001b[0m (\u001b[33mmalaikanoor7864-mnsuam\u001b[0m) to \u001b[32mhttps://api.wandb.ai\u001b[0m. Use \u001b[1m`wandb login --relogin`\u001b[0m to force relogin\n"
     ]
    },
    {
     "data": {
      "text/plain": [
       "True"
      ]
     },
     "execution_count": 1,
     "metadata": {},
     "output_type": "execute_result"
    }
   ],
   "source": [
    "import wandb\n",
    "import os\n",
    "\n",
    "wandb.login(key=os.environ.get(\"WANDB_API_KEY\"))"
   ]
  },
  {
   "cell_type": "code",
   "execution_count": 2,
   "metadata": {},
   "outputs": [
    {
     "name": "stderr",
     "output_type": "stream",
     "text": [
      "\u001b[34m\u001b[1mwandb\u001b[0m: Using wandb-core as the SDK backend.  Please refer to https://wandb.me/wandb-core for more information.\n"
     ]
    },
    {
     "data": {
      "text/html": [
       "Tracking run with wandb version 0.19.6"
      ],
      "text/plain": [
       "<IPython.core.display.HTML object>"
      ]
     },
     "metadata": {},
     "output_type": "display_data"
    },
    {
     "data": {
      "text/html": [
       "Run data is saved locally in <code>/home/sces213/Malaika/lts_modulus/shell_mgn/wandb/run-20250324_160829-ssjr51c5</code>"
      ],
      "text/plain": [
       "<IPython.core.display.HTML object>"
      ]
     },
     "metadata": {},
     "output_type": "display_data"
    },
    {
     "data": {
      "text/html": [
       "Syncing run <strong><a href='https://wandb.ai/malaikanoor7864-mnsuam/dnn-training/runs/ssjr51c5' target=\"_blank\">devoted-energy-1</a></strong> to <a href='https://wandb.ai/malaikanoor7864-mnsuam/dnn-training' target=\"_blank\">Weights & Biases</a> (<a href='https://wandb.me/developer-guide' target=\"_blank\">docs</a>)<br>"
      ],
      "text/plain": [
       "<IPython.core.display.HTML object>"
      ]
     },
     "metadata": {},
     "output_type": "display_data"
    },
    {
     "data": {
      "text/html": [
       " View project at <a href='https://wandb.ai/malaikanoor7864-mnsuam/dnn-training' target=\"_blank\">https://wandb.ai/malaikanoor7864-mnsuam/dnn-training</a>"
      ],
      "text/plain": [
       "<IPython.core.display.HTML object>"
      ]
     },
     "metadata": {},
     "output_type": "display_data"
    },
    {
     "data": {
      "text/html": [
       " View run at <a href='https://wandb.ai/malaikanoor7864-mnsuam/dnn-training/runs/ssjr51c5' target=\"_blank\">https://wandb.ai/malaikanoor7864-mnsuam/dnn-training/runs/ssjr51c5</a>"
      ],
      "text/plain": [
       "<IPython.core.display.HTML object>"
      ]
     },
     "metadata": {},
     "output_type": "display_data"
    },
    {
     "name": "stdout",
     "output_type": "stream",
     "text": [
      "Epoch [1/50], Loss: 0.0193\n",
      "Epoch [2/50], Loss: 0.0133\n",
      "Epoch [3/50], Loss: 0.0089\n",
      "Epoch [4/50], Loss: 0.0221\n",
      "Epoch [5/50], Loss: 0.0057\n",
      "Epoch [6/50], Loss: 0.0066\n",
      "Epoch [7/50], Loss: 0.0162\n",
      "Epoch [8/50], Loss: 0.0126\n",
      "Epoch [9/50], Loss: 0.0174\n",
      "Epoch [10/50], Loss: 0.0147\n",
      "Epoch [11/50], Loss: 0.0034\n",
      "Epoch [12/50], Loss: 0.0123\n",
      "Epoch [13/50], Loss: 0.0062\n",
      "Epoch [14/50], Loss: 0.0090\n",
      "Epoch [15/50], Loss: 0.0050\n",
      "Epoch [16/50], Loss: 0.0075\n",
      "Epoch [17/50], Loss: 0.0021\n",
      "Epoch [18/50], Loss: 0.0028\n",
      "Epoch [19/50], Loss: 0.0033\n",
      "Epoch [20/50], Loss: 0.0019\n",
      "Epoch [21/50], Loss: 0.0037\n",
      "Epoch [22/50], Loss: 0.0088\n",
      "Epoch [23/50], Loss: 0.0033\n",
      "Epoch [24/50], Loss: 0.0021\n",
      "Epoch [25/50], Loss: 0.0056\n",
      "Epoch [26/50], Loss: 0.0029\n",
      "Epoch [27/50], Loss: 0.0028\n",
      "Epoch [28/50], Loss: 0.0023\n",
      "Epoch [29/50], Loss: 0.0010\n",
      "Epoch [30/50], Loss: 0.0015\n",
      "Epoch [31/50], Loss: 0.0017\n",
      "Epoch [32/50], Loss: 0.0013\n",
      "Epoch [33/50], Loss: 0.0040\n",
      "Epoch [34/50], Loss: 0.0014\n",
      "Epoch [35/50], Loss: 0.0006\n",
      "Epoch [36/50], Loss: 0.0030\n",
      "Epoch [37/50], Loss: 0.0008\n",
      "Epoch [38/50], Loss: 0.0008\n",
      "Epoch [39/50], Loss: 0.0012\n",
      "Epoch [40/50], Loss: 0.0004\n",
      "Epoch [41/50], Loss: 0.0007\n",
      "Epoch [42/50], Loss: 0.0006\n",
      "Epoch [43/50], Loss: 0.0004\n",
      "Epoch [44/50], Loss: 0.0007\n",
      "Epoch [45/50], Loss: 0.0005\n",
      "Epoch [46/50], Loss: 0.0012\n",
      "Epoch [47/50], Loss: 0.0004\n",
      "Epoch [48/50], Loss: 0.0005\n",
      "Epoch [49/50], Loss: 0.0004\n",
      "Epoch [50/50], Loss: 0.0004\n"
     ]
    }
   ],
   "source": [
    "import torch\n",
    "import torch.nn as nn\n",
    "import torch.optim as optim\n",
    "from torch.utils.data import DataLoader, TensorDataset\n",
    "\n",
    "# Initialize Weights and Biases\n",
    "wandb.init(project=\"dnn-training\", config={\n",
    "    \"learning_rate\": 0.001,\n",
    "    \"batch_size\": 32,\n",
    "    \"epochs\": 50,\n",
    "    \"hidden_size\": 128,\n",
    "    \"num_layers\": 3\n",
    "})\n",
    "\n",
    "# Generate synthetic data with variance\n",
    "torch.manual_seed(42)\n",
    "num_samples = 1000\n",
    "input_size = 10\n",
    "output_size = 1\n",
    "\n",
    "# Input data in range (-1, 1) with some variance\n",
    "X = torch.rand(num_samples, input_size) * 2 - 1  # Range: (-1, 1)\n",
    "y = torch.randn(num_samples, output_size) * 0.1 + X.mean(dim=1, keepdim=True)  # Add variance\n",
    "\n",
    "# Create a dataset and dataloader\n",
    "dataset = TensorDataset(X, y)\n",
    "dataloader = DataLoader(dataset, batch_size=wandb.config.batch_size, shuffle=True)\n",
    "\n",
    "# Define a deep neural network\n",
    "class DNN(nn.Module):\n",
    "    def __init__(self, input_size, hidden_size, output_size, num_layers):\n",
    "        super(DNN, self).__init__()\n",
    "        layers = []\n",
    "        layers.append(nn.Linear(input_size, hidden_size))\n",
    "        layers.append(nn.ReLU())\n",
    "        \n",
    "        for _ in range(num_layers - 1):\n",
    "            layers.append(nn.Linear(hidden_size, hidden_size))\n",
    "            layers.append(nn.ReLU())\n",
    "        \n",
    "        layers.append(nn.Linear(hidden_size, output_size))\n",
    "        self.model = nn.Sequential(*layers)\n",
    "\n",
    "    def forward(self, x):\n",
    "        return self.model(x)\n",
    "\n",
    "# Initialize the model, loss, and optimizer\n",
    "model = DNN(input_size, wandb.config.hidden_size, output_size, wandb.config.num_layers)\n",
    "criterion = nn.MSELoss()\n",
    "optimizer = optim.Adam(model.parameters(), lr=wandb.config.learning_rate)\n",
    "\n",
    "# Watch the model with W&B\n",
    "wandb.watch(model, log=\"all\", log_freq=10)\n",
    "\n",
    "# Training loop\n",
    "for epoch in range(wandb.config.epochs):\n",
    "    for batch_X, batch_y in dataloader:\n",
    "        # Forward pass\n",
    "        predictions = model(batch_X)\n",
    "        loss = criterion(predictions, batch_y)\n",
    "\n",
    "        # Backward pass\n",
    "        optimizer.zero_grad()\n",
    "        loss.backward()\n",
    "        optimizer.step()\n",
    "\n",
    "        # Log loss and gradients\n",
    "        wandb.log({\"loss\": loss.item()})\n",
    "\n",
    "    print(f\"Epoch [{epoch+1}/{wandb.config.epochs}], Loss: {loss.item():.4f}\")\n",
    "\n"
   ]
  }
 ],
 "metadata": {
  "kernelspec": {
   "display_name": "lts_venv",
   "language": "python",
   "name": "python3"
  },
  "language_info": {
   "codemirror_mode": {
    "name": "ipython",
    "version": 3
   },
   "file_extension": ".py",
   "mimetype": "text/x-python",
   "name": "python",
   "nbconvert_exporter": "python",
   "pygments_lexer": "ipython3",
   "version": "3.10.12"
  }
 },
 "nbformat": 4,
 "nbformat_minor": 2
}
