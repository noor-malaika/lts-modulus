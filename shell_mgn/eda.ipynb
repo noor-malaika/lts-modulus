{
 "cells": [
  {
   "cell_type": "code",
   "execution_count": 3,
   "metadata": {},
   "outputs": [],
   "source": [
    "from utils import get_datapoint_idx, get_data_splits\n",
    "from datapipe.shell_dataset import ShellDataset, Hdf5Dataset\n",
    "\n",
    "data_path = \"/home/sces213/Malaika/lts_modulus/shell_mgn/dataset/dataset.hdf5\"\n",
    "num_training_samples = 50"
   ]
  },
  {
   "cell_type": "code",
   "execution_count": 4,
   "metadata": {},
   "outputs": [],
   "source": [
    "all_idx = get_datapoint_idx(data_path)\n",
    "train_idx, val_idx, test_idx = get_data_splits(all_idx)\n",
    "# saving test_idx for future testing\n",
    "# save_test_idx(test_idx)\n",
    "# instantiate dataset\n",
    "train_hdf5 = Hdf5Dataset(data_path, train_idx, len(train_idx))\n"
   ]
  },
  {
   "cell_type": "code",
   "execution_count": 5,
   "metadata": {},
   "outputs": [
    {
     "data": {
      "text/plain": [
       "dict_keys(['connectivity', 'etypes', 'load', 'ntypes', 'pos', 'spc', 'thickness', 'y'])"
      ]
     },
     "execution_count": 5,
     "metadata": {},
     "output_type": "execute_result"
    }
   ],
   "source": [
    "train_hdf5[0].keys()"
   ]
  },
  {
   "cell_type": "code",
   "execution_count": 6,
   "metadata": {},
   "outputs": [],
   "source": [
    "disp_x,disp_y,disp_z = [train_hdf5[0]['y'][:,i] for i in range(3)]"
   ]
  },
  {
   "cell_type": "code",
   "execution_count": null,
   "metadata": {},
   "outputs": [
    {
     "name": "stdout",
     "output_type": "stream",
     "text": [
      "<class 'pandas.core.frame.DataFrame'>\n",
      "RangeIndex: 4220 entries, 0 to 4219\n",
      "Data columns (total 3 columns):\n",
      " #   Column  Non-Null Count  Dtype  \n",
      "---  ------  --------------  -----  \n",
      " 0   0       4220 non-null   float32\n",
      " 1   1       4220 non-null   float32\n",
      " 2   2       4220 non-null   float32\n",
      "dtypes: float32(3)\n",
      "memory usage: 49.6 KB\n"
     ]
    }
   ],
   "source": [
    "import pandas as pd\n",
    "df_y = pd.DataFrame(train_hdf5[0]['y'])\n",
    "df_y.info()"
   ]
  },
  {
   "cell_type": "code",
   "execution_count": null,
   "metadata": {},
   "outputs": [
    {
     "data": {
      "text/html": [
       "<div>\n",
       "<style scoped>\n",
       "    .dataframe tbody tr th:only-of-type {\n",
       "        vertical-align: middle;\n",
       "    }\n",
       "\n",
       "    .dataframe tbody tr th {\n",
       "        vertical-align: top;\n",
       "    }\n",
       "\n",
       "    .dataframe thead th {\n",
       "        text-align: right;\n",
       "    }\n",
       "</style>\n",
       "<table border=\"1\" class=\"dataframe\">\n",
       "  <thead>\n",
       "    <tr style=\"text-align: right;\">\n",
       "      <th></th>\n",
       "      <th>0</th>\n",
       "      <th>1</th>\n",
       "      <th>2</th>\n",
       "    </tr>\n",
       "  </thead>\n",
       "  <tbody>\n",
       "    <tr>\n",
       "      <th>count</th>\n",
       "      <td>4220.000000</td>\n",
       "      <td>4220.000000</td>\n",
       "      <td>4220.000000</td>\n",
       "    </tr>\n",
       "    <tr>\n",
       "      <th>mean</th>\n",
       "      <td>0.683638</td>\n",
       "      <td>0.181053</td>\n",
       "      <td>0.141575</td>\n",
       "    </tr>\n",
       "    <tr>\n",
       "      <th>std</th>\n",
       "      <td>0.281248</td>\n",
       "      <td>0.180040</td>\n",
       "      <td>0.099223</td>\n",
       "    </tr>\n",
       "    <tr>\n",
       "      <th>min</th>\n",
       "      <td>-0.152843</td>\n",
       "      <td>-0.238003</td>\n",
       "      <td>-0.104302</td>\n",
       "    </tr>\n",
       "    <tr>\n",
       "      <th>25%</th>\n",
       "      <td>0.435999</td>\n",
       "      <td>0.095297</td>\n",
       "      <td>0.076532</td>\n",
       "    </tr>\n",
       "    <tr>\n",
       "      <th>50%</th>\n",
       "      <td>0.737169</td>\n",
       "      <td>0.118356</td>\n",
       "      <td>0.141596</td>\n",
       "    </tr>\n",
       "    <tr>\n",
       "      <th>75%</th>\n",
       "      <td>0.945907</td>\n",
       "      <td>0.176591</td>\n",
       "      <td>0.194844</td>\n",
       "    </tr>\n",
       "    <tr>\n",
       "      <th>max</th>\n",
       "      <td>1.033456</td>\n",
       "      <td>0.828583</td>\n",
       "      <td>0.381170</td>\n",
       "    </tr>\n",
       "  </tbody>\n",
       "</table>\n",
       "</div>"
      ],
      "text/plain": [
       "                 0            1            2\n",
       "count  4220.000000  4220.000000  4220.000000\n",
       "mean      0.683638     0.181053     0.141575\n",
       "std       0.281248     0.180040     0.099223\n",
       "min      -0.152843    -0.238003    -0.104302\n",
       "25%       0.435999     0.095297     0.076532\n",
       "50%       0.737169     0.118356     0.141596\n",
       "75%       0.945907     0.176591     0.194844\n",
       "max       1.033456     0.828583     0.381170"
      ]
     },
     "execution_count": 10,
     "metadata": {},
     "output_type": "execute_result"
    }
   ],
   "source": [
    "df_y.describe()"
   ]
  },
  {
   "cell_type": "code",
   "execution_count": 10,
   "metadata": {},
   "outputs": [
    {
     "name": "stderr",
     "output_type": "stream",
     "text": [
      "/tmp/ipykernel_314326/3864883420.py:6: MatplotlibDeprecationWarning: The 'labels' parameter of boxplot() has been renamed 'tick_labels' since Matplotlib 3.9; support for the old name will be dropped in 3.11.\n",
      "  plt.boxplot([disp_x, disp_y, disp_z], labels=['x', 'y', 'z'])\n"
     ]
    },
    {
     "data": {
      "image/png": "[encoded data removed]",
      "text/plain": [
       "<Figure size 640x480 with 1 Axes>"
      ]
     },
     "metadata": {},
     "output_type": "display_data"
    }
   ],
   "source": [
    "# Import libraries\n",
    "import matplotlib.pyplot as plt\n",
    "import numpy as np\n",
    "\n",
    "# Create box plot\n",
    "plt.boxplot([disp_x, disp_y, disp_z], labels=['x', 'y', 'z'])\n",
    "\n",
    "# Add labels and title\n",
    "plt.xlabel('Component')\n",
    "plt.ylabel('Displacement')\n",
    "plt.title('Distribution of Displacements in x, y, z Directions')\n",
    "\n",
    "# Show plot\n",
    "plt.show()\n"
   ]
  },
  {
   "cell_type": "markdown",
   "metadata": {},
   "source": [
    "#### Due to the above high variance in disp_x; y and z losses get stuck, and x keeps improving"
   ]
  }
 ],
 "metadata": {
  "kernelspec": {
   "display_name": "lts_venv",
   "language": "python",
   "name": "python3"
  },
  "language_info": {
   "codemirror_mode": {
    "name": "ipython",
    "version": 3
   },
   "file_extension": ".py",
   "mimetype": "text/x-python",
   "name": "python",
   "nbconvert_exporter": "python",
   "pygments_lexer": "ipython3",
   "version": "3.10.12"
  }
 },
 "nbformat": 4,
 "nbformat_minor": 2
}
